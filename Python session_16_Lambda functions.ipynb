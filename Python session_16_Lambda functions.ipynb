{
 "cells": [
  {
   "cell_type": "markdown",
   "id": "3baa1990-32fa-4014-a8f7-1a8154bd654e",
   "metadata": {},
   "source": [
    "- Lambda fn is a fn\n",
    "- it is a kind of a single line fn\n",
    "- we already seen list comprehension which mean ssingle line\n",
    "- lambda fn gives flexibility to stop writing many lines\n",
    "- on iterative execution it will save the timing"
   ]
  },
  {
   "cell_type": "code",
   "execution_count": 4,
   "id": "f2c49462-4a2c-4d09-ab22-fe54d120ef60",
   "metadata": {},
   "outputs": [
    {
     "data": {
      "text/plain": [
       "30"
      ]
     },
     "execution_count": 4,
     "metadata": {},
     "output_type": "execute_result"
    }
   ],
   "source": [
    "def summ(num):\n",
    "    return(num+10)\n",
    "summ(20)"
   ]
  },
  {
   "cell_type": "markdown",
   "id": "620cd1c4-5072-4145-b96f-9b872f638379",
   "metadata": {},
   "source": [
    "$Pattern-1$"
   ]
  },
  {
   "cell_type": "markdown",
   "id": "22f4b84a-c3d3-42ad-b0f1-4d2659da4a4f",
   "metadata": {},
   "source": [
    "- fn name\n",
    "- variable name\n",
    "- return o/p"
   ]
  },
  {
   "cell_type": "code",
   "execution_count": null,
   "id": "e0a79004-3699-4860-ac2c-1e9ab9d2d75e",
   "metadata": {},
   "outputs": [],
   "source": [
    "# <function_name> = lambda<variable_name>: <return_output>"
   ]
  },
  {
   "cell_type": "code",
   "execution_count": 8,
   "id": "5ef012e7-1aac-4945-b69b-8e7f7621d7e8",
   "metadata": {},
   "outputs": [
    {
     "data": {
      "text/plain": [
       "40"
      ]
     },
     "execution_count": 8,
     "metadata": {},
     "output_type": "execute_result"
    }
   ],
   "source": [
    "summ = lambda num: num+10\n",
    "summ(30)"
   ]
  },
  {
   "cell_type": "code",
   "execution_count": 9,
   "id": "ad6417ab-0cef-4dce-a799-3715b0fc12e3",
   "metadata": {},
   "outputs": [
    {
     "data": {
      "text/plain": [
       "1000"
      ]
     },
     "execution_count": 9,
     "metadata": {},
     "output_type": "execute_result"
    }
   ],
   "source": [
    "def cube(x):\n",
    "    return(x*x*x)\n",
    "cube(10)"
   ]
  },
  {
   "cell_type": "code",
   "execution_count": 11,
   "id": "5ea003b9-3d65-420c-abdf-1f6b4a63b01c",
   "metadata": {},
   "outputs": [
    {
     "data": {
      "text/plain": [
       "8000"
      ]
     },
     "execution_count": 11,
     "metadata": {},
     "output_type": "execute_result"
    }
   ],
   "source": [
    "cube = lambda x: (x*x*x)\n",
    "cube(20)"
   ]
  },
  {
   "cell_type": "markdown",
   "id": "2271c681-9957-493c-aaf9-0ce9536aa9b7",
   "metadata": {},
   "source": [
    "$pattern-2$\n",
    "\n",
    "**Two Arguments**"
   ]
  },
  {
   "cell_type": "code",
   "execution_count": 12,
   "id": "853a957a-ac51-49d4-8f91-52a23a3ea8ff",
   "metadata": {},
   "outputs": [
    {
     "data": {
      "text/plain": [
       "6"
      ]
     },
     "execution_count": 12,
     "metadata": {},
     "output_type": "execute_result"
    }
   ],
   "source": [
    "def add(n1,n2):\n",
    "    return(n1+n2)\n",
    "add(2,4)"
   ]
  },
  {
   "cell_type": "code",
   "execution_count": 13,
   "id": "03874b5e-06f9-4a35-9f15-1db9e526b01c",
   "metadata": {},
   "outputs": [
    {
     "data": {
      "text/plain": [
       "6"
      ]
     },
     "execution_count": 13,
     "metadata": {},
     "output_type": "execute_result"
    }
   ],
   "source": [
    "add = lambda n1,n2 : n1+n2\n",
    "add(2,4)"
   ]
  },
  {
   "cell_type": "code",
   "execution_count": 15,
   "id": "55fec777-3d3d-4685-9d06-0c45c756a225",
   "metadata": {},
   "outputs": [
    {
     "data": {
      "text/plain": [
       "4"
      ]
     },
     "execution_count": 15,
     "metadata": {},
     "output_type": "execute_result"
    }
   ],
   "source": [
    "avg = lambda n1,n2,n3 : round((n1+n2+n3)/3)\n",
    "avg(2,4,6)"
   ]
  },
  {
   "cell_type": "code",
   "execution_count": 16,
   "id": "baa1762f-20a3-4722-b9f8-de808a7712ae",
   "metadata": {},
   "outputs": [
    {
     "data": {
      "text/plain": [
       "9.33"
      ]
     },
     "execution_count": 16,
     "metadata": {},
     "output_type": "execute_result"
    }
   ],
   "source": [
    "avg = lambda n1,n2,n3 : round((n1+n2+n3)/3,2)\n",
    "avg(5,17,6)"
   ]
  },
  {
   "cell_type": "markdown",
   "id": "89bdf572-093a-47e5-a079-c5cecf132160",
   "metadata": {},
   "source": [
    "$Pattern-3$\n",
    "\n",
    "**Default Arguments**"
   ]
  },
  {
   "cell_type": "code",
   "execution_count": null,
   "id": "c18ffd33-3d91-42d1-8fa7-889c18c3f7df",
   "metadata": {},
   "outputs": [],
   "source": [
    "def avg(n1,n2,n3=100)"
   ]
  },
  {
   "cell_type": "code",
   "execution_count": 23,
   "id": "16c64917-2967-451c-801e-7373742943ee",
   "metadata": {
    "scrolled": true
   },
   "outputs": [
    {
     "data": {
      "text/plain": [
       "43.33"
      ]
     },
     "execution_count": 23,
     "metadata": {},
     "output_type": "execute_result"
    }
   ],
   "source": [
    "avg = lambda n1,n2,n3=100 : round((n1+n2+n3)/3,2)\n",
    "avg(10,20)"
   ]
  },
  {
   "cell_type": "markdown",
   "id": "b36c34cd-af60-4def-a1fd-0915f6387ab6",
   "metadata": {},
   "source": [
    "$Pattern-4$\n",
    "**if**"
   ]
  },
  {
   "cell_type": "code",
   "execution_count": 22,
   "id": "1b68b0da-effb-40c6-bd35-18146103bdec",
   "metadata": {},
   "outputs": [
    {
     "data": {
      "text/plain": [
       "'hello'"
      ]
     },
     "execution_count": 22,
     "metadata": {},
     "output_type": "execute_result"
    }
   ],
   "source": [
    "def greet(n1):\n",
    "    if n1>10:\n",
    "        return('hello')\n",
    "greet(20)"
   ]
  },
  {
   "cell_type": "code",
   "execution_count": null,
   "id": "1a923e76-490e-40fa-9e0e-16c0ba6576d9",
   "metadata": {},
   "outputs": [],
   "source": [
    "# In List Comprehension\n",
    "# [<if_out> <if_condition> <else> <else_output>]\n",
    "# no for loop\n",
    "\n",
    "#here\n",
    "# <fun_name> = lambda<arg1>: <if_out> <if_condition> <else> <else_output?"
   ]
  },
  {
   "cell_type": "code",
   "execution_count": 24,
   "id": "003f0657-815e-47ea-94f3-ab752531ed01",
   "metadata": {},
   "outputs": [
    {
     "data": {
      "text/plain": [
       "'bye'"
      ]
     },
     "execution_count": 24,
     "metadata": {},
     "output_type": "execute_result"
    }
   ],
   "source": [
    "greet = lambda n1 : 'hello' if n1>10 else 'bye'\n",
    "greet(10)"
   ]
  },
  {
   "cell_type": "code",
   "execution_count": 25,
   "id": "47996832-b2d9-489b-8851-ab7c5cff89f2",
   "metadata": {},
   "outputs": [
    {
     "data": {
      "text/plain": [
       "'n2 is greater'"
      ]
     },
     "execution_count": 25,
     "metadata": {},
     "output_type": "execute_result"
    }
   ],
   "source": [
    "# wap lambda fn to identify the greatest between two numbers\n",
    "\n",
    "greatest = lambda n1,n2 : 'n1 is greater' if n1>n2 else 'n2 is greater'\n",
    "greatest(2,4)"
   ]
  },
  {
   "cell_type": "markdown",
   "id": "205868a0-5d3f-48b0-82e4-cb086bca814a",
   "metadata": {},
   "source": [
    "$Patter-5$\n",
    "\n",
    "**Using List**"
   ]
  },
  {
   "cell_type": "code",
   "execution_count": null,
   "id": "4a618112-aadd-4724-8156-509f3c221f06",
   "metadata": {},
   "outputs": [],
   "source": [
    "list1=['hyd','blr,'chennai']\n",
    "# op=list2=['Hyd','Blr','Chennai']\n",
    "\n",
    "                  ===> 'hi how are you'  # lower\n",
    "                  ===> 'Hi how are you'  # \n",
    "                  ===> 'Hi How Are You'  # capitalize\n",
    "                  ===> 'HI HOW ARE YOU'  # upper"
   ]
  },
  {
   "cell_type": "code",
   "execution_count": 27,
   "id": "2adcfbc1-35e7-4989-8362-4932045dbe4a",
   "metadata": {},
   "outputs": [
    {
     "data": {
      "text/plain": [
       "['Hyd', 'Blr', 'Chennai']"
      ]
     },
     "execution_count": 27,
     "metadata": {},
     "output_type": "execute_result"
    }
   ],
   "source": [
    "list1=['hyd','blr','chennai']\n",
    "# op=list2=['Hyd','Blr','Chennai']\n",
    "\n",
    "list2=[]\n",
    "for i in list1:\n",
    "    list2.append(i.capitalize())\n",
    "list2\n"
   ]
  },
  {
   "cell_type": "code",
   "execution_count": null,
   "id": "4f8cc364-858a-4283-b46f-de1e7a9a512c",
   "metadata": {},
   "outputs": [],
   "source": [
    "- whats the variable name === > i\n",
    "- whats the return o/p ==== > i.capitalize()\n",
    "- from where its coming ==== > list1\n",
    "\n",
    "  # lambda<variable name> : <output>,<iterable>\n",
    "- strings are iterable\n",
    "- list are iterable\n",
    "- we can iterate using for loop"
   ]
  },
  {
   "cell_type": "code",
   "execution_count": null,
   "id": "98b62281-8c6c-4762-8e9a-e8682b91a5aa",
   "metadata": {},
   "outputs": [],
   "source": [
    "#lambda<variable name> : <output>,<iterable>\n",
    "lambda i : i.capitalize(),list1"
   ]
  },
  {
   "cell_type": "code",
   "execution_count": 29,
   "id": "22873e63-1fa6-433e-a616-a9bbb5314d98",
   "metadata": {},
   "outputs": [
    {
     "data": {
      "text/plain": [
       "['Hyd', 'Blr', 'Chennai']"
      ]
     },
     "execution_count": 29,
     "metadata": {},
     "output_type": "execute_result"
    }
   ],
   "source": [
    "list(map(lambda i : i.capitalize(),list1))"
   ]
  },
  {
   "cell_type": "code",
   "execution_count": 31,
   "id": "1eca09c3-0713-4e14-a622-2ea70d75fb3a",
   "metadata": {},
   "outputs": [
    {
     "data": {
      "text/plain": [
       "['Hyd', 'Blr', 'Chennai']"
      ]
     },
     "execution_count": 31,
     "metadata": {},
     "output_type": "execute_result"
    }
   ],
   "source": [
    "# step 1: create a normal lambda fn\n",
    "#      lambda<arg>: <output>\n",
    "# step 2: add the iterable\n",
    "#         lambda<arg>: <output>,<list>\n",
    "#step 3: map the both fns and list\n",
    "#       map(lambda<arg>: <output>,<list>)\n",
    "# step 4: save the result in a list or tuple\n",
    "#          list(map(lambda<arg>: <output>,<list>))\n",
    "\n",
    "lambda i : i.capitalize()\n",
    "lambda i : i.capitalize(), list1\n",
    "map(lambda i : i.capitalize(),list1)\n",
    "list(map(lambda i : i.capitalize(),list1))"
   ]
  },
  {
   "cell_type": "code",
   "execution_count": 32,
   "id": "b81ff991-5fc9-44b1-bfbb-14f06f5b35e7",
   "metadata": {},
   "outputs": [
    {
     "data": {
      "text/plain": [
       "['HYD', 'BLR', 'CHENNAI']"
      ]
     },
     "execution_count": 32,
     "metadata": {},
     "output_type": "execute_result"
    }
   ],
   "source": [
    "list(map(lambda i : i.upper(),list1))"
   ]
  },
  {
   "cell_type": "code",
   "execution_count": 33,
   "id": "b5da7897-4f85-4501-b2f2-4e669e81ff6c",
   "metadata": {},
   "outputs": [
    {
     "data": {
      "text/plain": [
       "['hyd', 'blr', 'chennai']"
      ]
     },
     "execution_count": 33,
     "metadata": {},
     "output_type": "execute_result"
    }
   ],
   "source": [
    "list(map(lambda i : i.lower(),list1))"
   ]
  },
  {
   "cell_type": "code",
   "execution_count": 36,
   "id": "08b7bf68-ad19-4a1b-a508-a77c99df1ca3",
   "metadata": {},
   "outputs": [
    {
     "data": {
      "text/plain": [
       "['  hyd  ', '  blr  ', 'chennai']"
      ]
     },
     "execution_count": 36,
     "metadata": {},
     "output_type": "execute_result"
    }
   ],
   "source": [
    "list(map(lambda i : i.center(7),list1))"
   ]
  },
  {
   "cell_type": "code",
   "execution_count": 38,
   "id": "29c18616-2f84-4d6b-b7bf-ab7f8b1547f2",
   "metadata": {},
   "outputs": [
    {
     "data": {
      "text/plain": [
       "['&&hyd&&', '&&blr&&', 'chennai']"
      ]
     },
     "execution_count": 38,
     "metadata": {},
     "output_type": "execute_result"
    }
   ],
   "source": [
    "list(map(lambda i : i.center(7,'&'),list1))"
   ]
  },
  {
   "cell_type": "code",
   "execution_count": 51,
   "id": "edbbd098-a3f8-4c51-ac38-44d9ddd9a643",
   "metadata": {},
   "outputs": [],
   "source": [
    "list1 = ['hyd','blr','che#nnai','mumb#ai']\n",
    "#list2 = ['che#nnai', 'mumb#ai']\n",
    "list2=[]\n",
    "for i in list1:\n",
    "    if '#' in i:\n",
    "        list2.append(i)"
   ]
  },
  {
   "cell_type": "code",
   "execution_count": 45,
   "id": "b64293bd-e5ae-4ea2-bebb-8ae0139e8543",
   "metadata": {},
   "outputs": [
    {
     "data": {
      "text/plain": [
       "[False, False, True, True]"
      ]
     },
     "execution_count": 45,
     "metadata": {},
     "output_type": "execute_result"
    }
   ],
   "source": [
    "# whenever you apply condition on List\n",
    "# write only condition without if\n",
    "list(map(lambda i: '#' in i,list1))"
   ]
  },
  {
   "cell_type": "markdown",
   "id": "da46e7fb-e033-426c-8257-fc479411a0cb",
   "metadata": {},
   "source": [
    "**filter method**"
   ]
  },
  {
   "cell_type": "code",
   "execution_count": 44,
   "id": "a8309e47-739e-4af4-972d-deeea56dbf9b",
   "metadata": {},
   "outputs": [
    {
     "data": {
      "text/plain": [
       "['che#nnai', 'mumb#ai']"
      ]
     },
     "execution_count": 44,
     "metadata": {},
     "output_type": "execute_result"
    }
   ],
   "source": [
    "list(filter(lambda i: '#' in i,list1))"
   ]
  },
  {
   "cell_type": "code",
   "execution_count": 46,
   "id": "f36c9c6a-d27d-4e4d-a794-9428798dafa9",
   "metadata": {},
   "outputs": [
    {
     "data": {
      "text/plain": [
       "['hyd', 'blr']"
      ]
     },
     "execution_count": 46,
     "metadata": {},
     "output_type": "execute_result"
    }
   ],
   "source": [
    "list1 = ['hyd','blr','che#nnai','mumb#ai']\n",
    "#list2 = ['hyd','blr] # len(i)<=3\n",
    "\n",
    "list2=[]\n",
    "list(filter(lambda i: len(i)<=3,list1))"
   ]
  },
  {
   "cell_type": "code",
   "execution_count": null,
   "id": "4f2c0774-5d15-45d9-a377-64f7c066d03a",
   "metadata": {},
   "outputs": [],
   "source": []
  }
 ],
 "metadata": {
  "kernelspec": {
   "display_name": "Python 3 (ipykernel)",
   "language": "python",
   "name": "python3"
  },
  "language_info": {
   "codemirror_mode": {
    "name": "ipython",
    "version": 3
   },
   "file_extension": ".py",
   "mimetype": "text/x-python",
   "name": "python",
   "nbconvert_exporter": "python",
   "pygments_lexer": "ipython3",
   "version": "3.11.7"
  }
 },
 "nbformat": 4,
 "nbformat_minor": 5
}
