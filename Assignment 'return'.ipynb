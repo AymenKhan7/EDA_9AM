{
 "cells": [
  {
   "cell_type": "code",
   "execution_count": 1,
   "id": "f9f72708-9751-42d3-9695-d6858d234672",
   "metadata": {},
   "outputs": [
    {
     "name": "stdin",
     "output_type": "stream",
     "text": [
      "enter the num1: 2\n",
      "enter the num2: 4\n",
      "enter the num3: 6\n"
     ]
    },
    {
     "name": "stdout",
     "output_type": "stream",
     "text": [
      "4.0\n"
     ]
    }
   ],
   "source": [
    "def avg():\n",
    "    n1=eval(input(\"enter the num1:\"))\n",
    "    n2=eval(input(\"enter the num2:\"))\n",
    "    n3=eval(input(\"enter the num3:\"))\n",
    "    Avg=(n1+n2+n3)/3\n",
    "    avg1=round(Avg,2)\n",
    "    return(avg1)\n",
    "\n",
    "avg1=avg()\n",
    "print(avg1)"
   ]
  },
  {
   "cell_type": "code",
   "execution_count": 2,
   "id": "30d6c169-8778-4376-9e74-00d206d77c1f",
   "metadata": {},
   "outputs": [
    {
     "name": "stdin",
     "output_type": "stream",
     "text": [
      "enter the bill amount: 1345\n",
      "enter the tip_percentage: 7\n"
     ]
    },
    {
     "name": "stdout",
     "output_type": "stream",
     "text": [
      "1439.15\n"
     ]
    }
   ],
   "source": [
    "def pay():\n",
    "    n1=eval(input(\"enter the bill amount:\"))\n",
    "    n2=eval(input(\"enter the tip_percentage:\"))\n",
    "    tip_percentage=(n2/100)*n1\n",
    "    total_bill=n1+tip_percentage\n",
    "    return(total_bill)\n",
    "\n",
    "total_bill=pay()\n",
    "print(total_bill)"
   ]
  },
  {
   "cell_type": "code",
   "execution_count": 15,
   "id": "b7a9df3a-d3f2-4160-bfa5-64cb9ed4b805",
   "metadata": {},
   "outputs": [
    {
     "name": "stdin",
     "output_type": "stream",
     "text": [
      "enter the radius: 5\n"
     ]
    },
    {
     "name": "stdout",
     "output_type": "stream",
     "text": [
      "78.54\n"
     ]
    }
   ],
   "source": [
    "import math\n",
    "pi=math.pi\n",
    "def area():\n",
    "    radius=eval(input(\"enter the radius:\"))\n",
    "    circle_area=round(pi*radius*radius,2)\n",
    "    return(circle_area)\n",
    "\n",
    "circle_area=area()\n",
    "print(circle_area)"
   ]
  },
  {
   "cell_type": "code",
   "execution_count": null,
   "id": "44f91e65-4d2f-4c06-b956-092d50b87756",
   "metadata": {},
   "outputs": [],
   "source": []
  }
 ],
 "metadata": {
  "kernelspec": {
   "display_name": "Python 3 (ipykernel)",
   "language": "python",
   "name": "python3"
  },
  "language_info": {
   "codemirror_mode": {
    "name": "ipython",
    "version": 3
   },
   "file_extension": ".py",
   "mimetype": "text/x-python",
   "name": "python",
   "nbconvert_exporter": "python",
   "pygments_lexer": "ipython3",
   "version": "3.11.7"
  }
 },
 "nbformat": 4,
 "nbformat_minor": 5
}
