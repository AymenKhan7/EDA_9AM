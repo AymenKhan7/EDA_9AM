{
 "cells": [
  {
   "cell_type": "code",
   "execution_count": 1,
   "id": "16a0dcb8-fb56-4cd4-8eb7-e362cda4abbe",
   "metadata": {},
   "outputs": [
    {
     "name": "stdout",
     "output_type": "stream",
     "text": [
      "hi\n"
     ]
    }
   ],
   "source": [
    "# 1. wap\n",
    "print('hi')"
   ]
  },
  {
   "cell_type": "code",
   "execution_count": 5,
   "id": "8203d70d-176b-4bb1-8ebe-bc3d27937de8",
   "metadata": {},
   "outputs": [
    {
     "name": "stdin",
     "output_type": "stream",
     "text": [
      "enter the number: 2\n",
      "enter the number: 4\n"
     ]
    },
    {
     "name": "stdout",
     "output_type": "stream",
     "text": [
      "The sum of 2 + 4 is 6\n"
     ]
    }
   ],
   "source": [
    "#2. wap to do arithmetic ops addition and division\n",
    "# add\n",
    "n1 = eval(input(\"enter the number:\"))\n",
    "n2 = eval(input(\"enter the number:\"))\n",
    "n3 = n1+n2\n",
    "print(f\"The sum of {n1} + {n2} is {n3}\")"
   ]
  },
  {
   "cell_type": "code",
   "execution_count": 16,
   "id": "35a62c06-92e5-4f94-b35d-44a112fe8f8b",
   "metadata": {},
   "outputs": [
    {
     "name": "stdout",
     "output_type": "stream",
     "text": [
      "the sum of 6 + -4 is 2\n"
     ]
    }
   ],
   "source": [
    "#2. wap to do arithmetic ops addition and division with random number\n",
    "# add\n",
    "import random\n",
    "n1= random.randint(-2,6)\n",
    "n2 = random.randint(-5,5)\n",
    "n3 = n1 + n2\n",
    "print(f\"the sum of {n1} + {n2} is {n3}\")"
   ]
  },
  {
   "cell_type": "code",
   "execution_count": 21,
   "id": "44fdbf84-5839-49e8-8ff0-495d5397ee0e",
   "metadata": {},
   "outputs": [
    {
     "name": "stdin",
     "output_type": "stream",
     "text": [
      "enter the number: 2.3\n",
      "enter the number: 8.7\n"
     ]
    },
    {
     "name": "stdout",
     "output_type": "stream",
     "text": [
      "The div of 2.3 / 8.7 is 0.26436781609195403\n"
     ]
    }
   ],
   "source": [
    "#2. wap to do arithmetic ops addition and division with random number\n",
    "# div\n",
    "n1 = float(input(\"enter the number:\"))\n",
    "n2 = float(input(\"enter the number:\"))\n",
    "n3 = n1 / n2\n",
    "print(f\"The div of {n1} / {n2} is {n3}\")"
   ]
  },
  {
   "cell_type": "code",
   "execution_count": 32,
   "id": "094895f7-bd84-4d1a-8652-4124705b2753",
   "metadata": {},
   "outputs": [
    {
     "name": "stdin",
     "output_type": "stream",
     "text": [
      "enter the breadth: 5\n",
      "enter the height: 10\n"
     ]
    },
    {
     "name": "stdout",
     "output_type": "stream",
     "text": [
      "The area of the Triangle is 25.0\n"
     ]
    }
   ],
   "source": [
    "# 3. wap to find the area of a triangle\n",
    "n1 = eval(input(\"enter the breadth:\"))\n",
    "n2 = eval (input(\"enter the height:\"))\n",
    "AreaTriangle = 1/2*n1*n2\n",
    "print(f\"The area of the Triangle is {AreaTriangle}\")"
   ]
  },
  {
   "cell_type": "code",
   "execution_count": 38,
   "id": "fc82c8b9-2775-434a-b954-30361435c91b",
   "metadata": {},
   "outputs": [
    {
     "name": "stdin",
     "output_type": "stream",
     "text": [
      "enter the variable 1: m\n",
      "enter the variable 2: n\n"
     ]
    },
    {
     "name": "stdout",
     "output_type": "stream",
     "text": [
      "m and n\n",
      "The swapped values are n and m\n"
     ]
    }
   ],
   "source": [
    "# 4. wap to swap two variables\n",
    "var1 = input(\"enter the variable 1:\")\n",
    "var2 = input(\"enter the variable 2:\")\n",
    "print(f\"{var1} and {var2}\")\n",
    "newvar = var1\n",
    "var1 = var2\n",
    "var2 = newvar\n",
    "print(f\"The swapped values are {var1} and {var2}\")"
   ]
  },
  {
   "cell_type": "code",
   "execution_count": 50,
   "id": "600a98cc-8269-463e-863e-fe26fbdfc042",
   "metadata": {},
   "outputs": [
    {
     "name": "stdout",
     "output_type": "stream",
     "text": [
      "7\n"
     ]
    }
   ],
   "source": [
    "# 5. wap to generate a random number\n",
    "print(random.randint(1,9))"
   ]
  },
  {
   "cell_type": "code",
   "execution_count": 55,
   "id": "8a216767-1902-406d-81b4-a77c1a6dfc2e",
   "metadata": {},
   "outputs": [
    {
     "name": "stdin",
     "output_type": "stream",
     "text": [
      "enter the kms: 0.7\n"
     ]
    },
    {
     "name": "stdout",
     "output_type": "stream",
     "text": [
      "The conversion of 0.7 kms to miles is 0.434\n"
     ]
    }
   ],
   "source": [
    "# 6. wap to convert km to miles\n",
    "n1 = float(input(\"enter the kms:\"))\n",
    "n2 = 0.62\n",
    "Miles = n1*n2\n",
    "print(f\"The conversion of {n1} kms to miles is {Miles}\")"
   ]
  },
  {
   "cell_type": "code",
   "execution_count": 59,
   "id": "5f03c11a-48c7-4972-bbae-efba506e5ffb",
   "metadata": {},
   "outputs": [
    {
     "name": "stdin",
     "output_type": "stream",
     "text": [
      "enter the celsius: 12\n"
     ]
    },
    {
     "name": "stdout",
     "output_type": "stream",
     "text": [
      "The temprature is 53.6\n"
     ]
    }
   ],
   "source": [
    "# 7 wap to convert celsisus to fahrenheit\n",
    "# F = (9/5)C + 32\n",
    "n1 = float(input(\"enter the celsius:\"))\n",
    "Fahrenheit = (9/5)*n1 + 32\n",
    "print(f\"The temprature is {Fahrenheit}\") "
   ]
  },
  {
   "cell_type": "code",
   "execution_count": 61,
   "id": "de4c663e-68b7-42d1-80b5-e1a92552e61f",
   "metadata": {},
   "outputs": [
    {
     "name": "stdout",
     "output_type": "stream",
     "text": [
      "                                  2024\n",
      "\n",
      "      January                   February                   March\n",
      "Mo Tu We Th Fr Sa Su      Mo Tu We Th Fr Sa Su      Mo Tu We Th Fr Sa Su\n",
      " 1  2  3  4  5  6  7                1  2  3  4                   1  2  3\n",
      " 8  9 10 11 12 13 14       5  6  7  8  9 10 11       4  5  6  7  8  9 10\n",
      "15 16 17 18 19 20 21      12 13 14 15 16 17 18      11 12 13 14 15 16 17\n",
      "22 23 24 25 26 27 28      19 20 21 22 23 24 25      18 19 20 21 22 23 24\n",
      "29 30 31                  26 27 28 29               25 26 27 28 29 30 31\n",
      "\n",
      "       April                      May                       June\n",
      "Mo Tu We Th Fr Sa Su      Mo Tu We Th Fr Sa Su      Mo Tu We Th Fr Sa Su\n",
      " 1  2  3  4  5  6  7             1  2  3  4  5                      1  2\n",
      " 8  9 10 11 12 13 14       6  7  8  9 10 11 12       3  4  5  6  7  8  9\n",
      "15 16 17 18 19 20 21      13 14 15 16 17 18 19      10 11 12 13 14 15 16\n",
      "22 23 24 25 26 27 28      20 21 22 23 24 25 26      17 18 19 20 21 22 23\n",
      "29 30                     27 28 29 30 31            24 25 26 27 28 29 30\n",
      "\n",
      "        July                     August                  September\n",
      "Mo Tu We Th Fr Sa Su      Mo Tu We Th Fr Sa Su      Mo Tu We Th Fr Sa Su\n",
      " 1  2  3  4  5  6  7                1  2  3  4                         1\n",
      " 8  9 10 11 12 13 14       5  6  7  8  9 10 11       2  3  4  5  6  7  8\n",
      "15 16 17 18 19 20 21      12 13 14 15 16 17 18       9 10 11 12 13 14 15\n",
      "22 23 24 25 26 27 28      19 20 21 22 23 24 25      16 17 18 19 20 21 22\n",
      "29 30 31                  26 27 28 29 30 31         23 24 25 26 27 28 29\n",
      "                                                    30\n",
      "\n",
      "      October                   November                  December\n",
      "Mo Tu We Th Fr Sa Su      Mo Tu We Th Fr Sa Su      Mo Tu We Th Fr Sa Su\n",
      "    1  2  3  4  5  6                   1  2  3                         1\n",
      " 7  8  9 10 11 12 13       4  5  6  7  8  9 10       2  3  4  5  6  7  8\n",
      "14 15 16 17 18 19 20      11 12 13 14 15 16 17       9 10 11 12 13 14 15\n",
      "21 22 23 24 25 26 27      18 19 20 21 22 23 24      16 17 18 19 20 21 22\n",
      "28 29 30 31               25 26 27 28 29 30         23 24 25 26 27 28 29\n",
      "                                                    30 31\n",
      "\n"
     ]
    }
   ],
   "source": [
    "# 8. wap to display calendar\n",
    "import calendar\n",
    "#import calendar\n",
    "print(calendar.calendar(2024))\n"
   ]
  },
  {
   "cell_type": "code",
   "execution_count": 62,
   "id": "d1e468d3-3de5-48d9-910c-937644166f68",
   "metadata": {},
   "outputs": [
    {
     "name": "stdout",
     "output_type": "stream",
     "text": [
      "0\n"
     ]
    }
   ],
   "source": [
    "import calendar\n",
    "print(calendar.firstweekday())  # Output depends on your system's default"
   ]
  },
  {
   "cell_type": "code",
   "execution_count": 67,
   "id": "68cf1e42-2de0-4092-9045-75b9fc50f176",
   "metadata": {
    "scrolled": true
   },
   "outputs": [
    {
     "name": "stdin",
     "output_type": "stream",
     "text": [
      "enter the year: 2002\n",
      "enter the month: 3\n"
     ]
    },
    {
     "name": "stdout",
     "output_type": "stream",
     "text": [
      "     March 2002\n",
      "Mo Tu We Th Fr Sa Su\n",
      "             1  2  3\n",
      " 4  5  6  7  8  9 10\n",
      "11 12 13 14 15 16 17\n",
      "18 19 20 21 22 23 24\n",
      "25 26 27 28 29 30 31\n",
      "\n"
     ]
    }
   ],
   "source": [
    "# 8 \n",
    "import calendar\n",
    "year = int(input(\"enter the year:\"))\n",
    "month = int(input(\"enter the month:\"))\n",
    "\n",
    "cal = calendar.month(year, month)\n",
    "print(cal)"
   ]
  },
  {
   "cell_type": "code",
   "execution_count": 71,
   "id": "3d3ba9d6-5671-44ef-87f9-153c4b4938bf",
   "metadata": {},
   "outputs": [
    {
     "name": "stdout",
     "output_type": "stream",
     "text": [
      "20 10\n"
     ]
    }
   ],
   "source": [
    "# Q10) Write a Python program to swap two variables without temp variable.\n",
    "a = 10\n",
    "b = 20\n",
    "a,b = b,a\n",
    "a\n",
    "b\n",
    "print(a,b)"
   ]
  },
  {
   "cell_type": "code",
   "execution_count": 73,
   "id": "6380c61c-de02-4a04-abcd-85a77d5c2486",
   "metadata": {},
   "outputs": [
    {
     "data": {
      "text/plain": [
       "(4, 2)"
      ]
     },
     "execution_count": 73,
     "metadata": {},
     "output_type": "execute_result"
    }
   ],
   "source": [
    "def swap(a,b):\n",
    "    return(b,a)\n",
    "mnivg,mn = swap(2,4)\n",
    "mnivg,mn"
   ]
  },
  {
   "cell_type": "code",
   "execution_count": 74,
   "id": "8a4bd76b-464f-43c2-8746-500c84f0513b",
   "metadata": {},
   "outputs": [
    {
     "data": {
      "text/plain": [
       "(8, 6)"
      ]
     },
     "execution_count": 74,
     "metadata": {},
     "output_type": "execute_result"
    }
   ],
   "source": [
    "swap(6,8)"
   ]
  },
  {
   "cell_type": "code",
   "execution_count": 81,
   "id": "ed37682d-0e38-422b-9704-efb39b86a31e",
   "metadata": {},
   "outputs": [
    {
     "name": "stdin",
     "output_type": "stream",
     "text": [
      "enter the number: -0\n"
     ]
    },
    {
     "name": "stdout",
     "output_type": "stream",
     "text": [
      "zero\n"
     ]
    }
   ],
   "source": [
    "# Q11) Write a Python Program to Check if a Number is Positive, Negative or Zero.\n",
    "n = eval(input(\"enter the number:\"))\n",
    "if n>0:\n",
    "    print('+ve')\n",
    "elif n == 0:\n",
    "    print('zero')\n",
    "else:\n",
    "    print('-ve')"
   ]
  },
  {
   "cell_type": "code",
   "execution_count": 84,
   "id": "e884071e-3ab0-4020-8783-e2483d31edec",
   "metadata": {},
   "outputs": [
    {
     "name": "stdin",
     "output_type": "stream",
     "text": [
      "enter the number: 0\n"
     ]
    },
    {
     "name": "stdout",
     "output_type": "stream",
     "text": [
      "0 is even\n"
     ]
    }
   ],
   "source": [
    "# Q12) Write a Python Program to Check if a Number is Odd or Even.\n",
    "n = eval(input(\"enter the number:\"))\n",
    "if n % 2 == 0:\n",
    "    print(f\"{n} is even\")\n",
    "else:\n",
    "    print(f\"{n} is odd\")"
   ]
  },
  {
   "cell_type": "code",
   "execution_count": 89,
   "id": "e7d1d570-17db-4b54-8dae-c86f21426e81",
   "metadata": {
    "scrolled": true
   },
   "outputs": [
    {
     "name": "stdin",
     "output_type": "stream",
     "text": [
      "enter the year: 2025\n"
     ]
    },
    {
     "name": "stdout",
     "output_type": "stream",
     "text": [
      "2025 is not a leap year\n"
     ]
    }
   ],
   "source": [
    "# 13) Write a Python Program to Check Leap Year.\n",
    "n = eval(input(\"enter the year:\"))\n",
    "if n % 400 == 0 or (n % 4 == 0 and n % 100 != 0):\n",
    "    print (f\"{n} is a leap year\")\n",
    "else: \n",
    "    print(f\"{n} is not a leap year\")"
   ]
  },
  {
   "cell_type": "code",
   "execution_count": 148,
   "id": "39642c9c-db62-4ddb-b20c-685f089ced5c",
   "metadata": {},
   "outputs": [
    {
     "name": "stdin",
     "output_type": "stream",
     "text": [
      "enter the number: 5\n"
     ]
    },
    {
     "name": "stdout",
     "output_type": "stream",
     "text": [
      "5 is a prime\n"
     ]
    }
   ],
   "source": [
    "# Q14) Write a Python Program to Check Prime Number.\n",
    "n = eval(input(\"enter the number:\"))\n",
    "count=0\n",
    "for i in range (2,n):\n",
    "    if n%i==0:\n",
    "        count+=1\n",
    "        break\n",
    "if count>0:\n",
    "    print (f\"{n} is not a prime\")\n",
    "else:\n",
    "    print (f\"{n} is a prime\")"
   ]
  },
  {
   "cell_type": "code",
   "execution_count": 146,
   "id": "f7260347-0ba1-454c-8551-d747458984ac",
   "metadata": {},
   "outputs": [],
   "source": [
    "start=11\n",
    "end=10\n",
    "for n in range(start, end+1):\n",
    "    if n>1:\n",
    "        for j in range(2,n):\n",
    "            if (n%j == 0):\n",
    "                break\n",
    "            else:\n",
    "                print(n)"
   ]
  },
  {
   "cell_type": "code",
   "execution_count": 142,
   "id": "0f540645-f6d3-47db-a95b-85b06648bbe3",
   "metadata": {},
   "outputs": [
    {
     "name": "stdin",
     "output_type": "stream",
     "text": [
      "enter the number: 10\n"
     ]
    },
    {
     "name": "stdout",
     "output_type": "stream",
     "text": [
      "2\n",
      "3\n",
      "not prime\n",
      "5\n",
      "not prime\n",
      "7\n",
      "not prime\n",
      "not prime\n",
      "not prime\n"
     ]
    }
   ],
   "source": [
    "r = eval(input(\"enter the number:\"))\n",
    "for number in range(1,r+1):\n",
    "    if number>1:\n",
    "        for j in range(2,number):\n",
    "            if (number%j == 0):\n",
    "                print('not prime')\n",
    "                break\n",
    "        else:\n",
    "            print(number)"
   ]
  },
  {
   "cell_type": "code",
   "execution_count": 144,
   "id": "f2ea75cc-143d-40fc-aba3-a2f1febddb5f",
   "metadata": {},
   "outputs": [
    {
     "name": "stdout",
     "output_type": "stream",
     "text": [
      "2\n",
      "3\n",
      "4\n"
     ]
    }
   ],
   "source": [
    "for num in range(1,6):\n",
    "    if num>1:\n",
    "       for j in range(2,5):\n",
    "           if num%j ==0\n",
    "     print(j)"
   ]
  },
  {
   "cell_type": "code",
   "execution_count": null,
   "id": "4baed6ce-b233-4598-887a-86ebd88f9434",
   "metadata": {},
   "outputs": [],
   "source": [
    "# Write a Python Program to Find the Factorial of a Number.\n",
    "n = eval(input(\"enter the number:\"))\n"
   ]
  }
 ],
 "metadata": {
  "kernelspec": {
   "display_name": "Python 3 (ipykernel)",
   "language": "python",
   "name": "python3"
  },
  "language_info": {
   "codemirror_mode": {
    "name": "ipython",
    "version": 3
   },
   "file_extension": ".py",
   "mimetype": "text/x-python",
   "name": "python",
   "nbconvert_exporter": "python",
   "pygments_lexer": "ipython3",
   "version": "3.11.7"
  }
 },
 "nbformat": 4,
 "nbformat_minor": 5
}
