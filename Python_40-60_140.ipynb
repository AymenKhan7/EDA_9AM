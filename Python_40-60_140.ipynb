{
 "cells": [
  {
   "cell_type": "code",
   "execution_count": 2,
   "id": "772f854a-5e97-482f-9ed7-414596b650ec",
   "metadata": {},
   "outputs": [
    {
     "name": "stdin",
     "output_type": "stream",
     "text": [
      "enter the string: i $ have# @gu!ns\n"
     ]
    },
    {
     "name": "stdout",
     "output_type": "stream",
     "text": [
      " i  have guns\n"
     ]
    }
   ],
   "source": [
    "# 41 Write a Python Program to Remove Punctuation From a String.\n",
    "punctuation = '!@#$%^&*()_+-={}|[]\\:\";''<>''?,./~`\"'\n",
    "\n",
    "string1 = input(\"enter the string:\") \n",
    "emptystring=\" \"\n",
    "for i in string1:\n",
    "    if i not in punctuation:\n",
    "        emptystring=emptystring+i\n",
    "print(emptystring)\n"
   ]
  },
  {
   "cell_type": "code",
   "execution_count": 100,
   "id": "8841b157-61f5-4a24-b885-c51664b2c39b",
   "metadata": {},
   "outputs": [
    {
     "name": "stdin",
     "output_type": "stream",
     "text": [
      "enter the number: 43\n"
     ]
    },
    {
     "name": "stdout",
     "output_type": "stream",
     "text": [
      "43 not disarium\n"
     ]
    }
   ],
   "source": [
    "# 43) Write a Python program to check if the given number is a Disarium Number. \n",
    "# eg: 8^1 + 9^2 = 8 + 81 = 89 \n",
    "# Disarium = x^1 + y^2 = xy\n",
    "h = int(input(\"enter the number:\"))\n",
    "strrr = str(h)\n",
    "f = 0\n",
    "for i,d in enumerate(strrr):\n",
    "    f = f+(int(d)**int(i+1))\n",
    "\n",
    "if f == h:\n",
    "    print(f\"number {h} is disarium\")\n",
    "else:\n",
    "    print(f\"{h} not disarium\")"
   ]
  },
  {
   "cell_type": "code",
   "execution_count": 122,
   "id": "f33e14b2-7820-4124-bad2-bd3ff55151e7",
   "metadata": {},
   "outputs": [
    {
     "ename": "ValueError",
     "evalue": "invalid literal for int() with base 10: 'r'",
     "output_type": "error",
     "traceback": [
      "\u001b[1;31m---------------------------------------------------------------------------\u001b[0m",
      "\u001b[1;31mValueError\u001b[0m                                Traceback (most recent call last)",
      "Cell \u001b[1;32mIn[122], line 6\u001b[0m\n\u001b[0;32m      4\u001b[0m q\u001b[38;5;241m=\u001b[39m\u001b[38;5;241m0\u001b[39m \n\u001b[0;32m      5\u001b[0m \u001b[38;5;28;01mfor\u001b[39;00m i,d \u001b[38;5;129;01min\u001b[39;00m \u001b[38;5;28menumerate\u001b[39m(str2):\n\u001b[1;32m----> 6\u001b[0m     q\u001b[38;5;241m=\u001b[39mq\u001b[38;5;241m+\u001b[39m(\u001b[38;5;28mint\u001b[39m(d)\u001b[38;5;241m*\u001b[39m\u001b[38;5;241m*\u001b[39m\u001b[38;5;28mint\u001b[39m(i\u001b[38;5;241m+\u001b[39md))\n\u001b[0;32m      7\u001b[0m \u001b[38;5;28;01mif\u001b[39;00m q\u001b[38;5;241m==\u001b[39mt:\n\u001b[0;32m      8\u001b[0m     \u001b[38;5;28mprint\u001b[39m(q)\n",
      "\u001b[1;31mValueError\u001b[0m: invalid literal for int() with base 10: 'r'"
     ]
    }
   ],
   "source": [
    "# 44) Write a Python program to print all disarium numbers between 1 to 100\n",
    "t=range(0,101)\n",
    "str2=str(t)\n",
    "q=0 \n",
    "for i,d in enumerate(str2):\n",
    "    q=q+(int(d)**int(i+d))\n",
    "if q==t:\n",
    "    print(q)"
   ]
  },
  {
   "cell_type": "code",
   "execution_count": null,
   "id": "40936ddd-2b35-4a06-a44c-ed2a5372bf5c",
   "metadata": {},
   "outputs": [],
   "source": []
  },
  {
   "cell_type": "code",
   "execution_count": 43,
   "id": "c19768fd-fc70-4c36-9253-53d31343b045",
   "metadata": {},
   "outputs": [],
   "source": [
    "# 48 Write a Python program to print all pronic numbers between 1 and 100. <Pronic = n ∗ (n + 1)>\n",
    "# p == n*(n+1)\n",
    "for i in range(1,101):\n",
    "    p=i*(i+1)\n",
    "    if p>=100:\n",
    "        break\n",
    "    print(p,end=\" \")        "
   ]
  },
  {
   "cell_type": "code",
   "execution_count": 53,
   "id": "44f037b5-814d-4719-a60a-63145ff25888",
   "metadata": {},
   "outputs": [
    {
     "name": "stdout",
     "output_type": "stream",
     "text": [
      "10\n"
     ]
    }
   ],
   "source": [
    "# 49 Wap to find the sum of the elements in a list\n",
    "l1 =[1,2,3,4]\n",
    "sumoflist = 0\n",
    "for i in l1:\n",
    "    sumoflist = i+sumoflist\n",
    "print(sumoflist)"
   ]
  },
  {
   "cell_type": "code",
   "execution_count": 58,
   "id": "bda00272-b682-4478-b914-8182666c2528",
   "metadata": {},
   "outputs": [
    {
     "name": "stdout",
     "output_type": "stream",
     "text": [
      "24\n"
     ]
    }
   ],
   "source": [
    "# 50 wap to Multiply all numbers in the list.\n",
    "l2 = [1,2,3,4]\n",
    "prodoflist = 1\n",
    "for i in l2:\n",
    "    prodoflist = i*prodoflist\n",
    "print(prodoflist)"
   ]
  },
  {
   "cell_type": "code",
   "execution_count": 61,
   "id": "72d36eea-9f46-44b7-b04d-19ca9f1c35f3",
   "metadata": {},
   "outputs": [
    {
     "name": "stdout",
     "output_type": "stream",
     "text": [
      "10\n"
     ]
    }
   ],
   "source": [
    "#  wap to find the sum of int\n",
    "intt = (1,2,3,4)\n",
    "sumofint = 0\n",
    "for i in intt:\n",
    "    sumofint = sumofint+i\n",
    "print(sumofint)"
   ]
  },
  {
   "cell_type": "code",
   "execution_count": 78,
   "id": "655ea8a5-9b7b-452e-a527-bab329a88db9",
   "metadata": {},
   "outputs": [
    {
     "ename": "TypeError",
     "evalue": "can only concatenate str (not \"int\") to str",
     "output_type": "error",
     "traceback": [
      "\u001b[1;31m---------------------------------------------------------------------------\u001b[0m",
      "\u001b[1;31mTypeError\u001b[0m                                 Traceback (most recent call last)",
      "Cell \u001b[1;32mIn[78], line 5\u001b[0m\n\u001b[0;32m      3\u001b[0m sumofstrr \u001b[38;5;241m=\u001b[39m \u001b[38;5;124m'\u001b[39m\u001b[38;5;124m \u001b[39m\u001b[38;5;124m'\u001b[39m\n\u001b[0;32m      4\u001b[0m \u001b[38;5;28;01mfor\u001b[39;00m i \u001b[38;5;129;01min\u001b[39;00m strr:\n\u001b[1;32m----> 5\u001b[0m     sumofstrr \u001b[38;5;241m=\u001b[39m sumofstrr\u001b[38;5;241m+\u001b[39m\u001b[38;5;241m1\u001b[39m\n\u001b[0;32m      6\u001b[0m \u001b[38;5;28mprint\u001b[39m(sumofstrr)\n",
      "\u001b[1;31mTypeError\u001b[0m: can only concatenate str (not \"int\") to str"
     ]
    }
   ],
   "source": [
    "#  wap to find the sum of a string\n",
    "strr = '9,8,0,3,2,1'\n",
    "sumofstrr = ' '\n",
    "for i in strr:\n",
    "    sumofstrr = sumofstrr+1\n",
    "print(sumofstrr)"
   ]
  },
  {
   "cell_type": "code",
   "execution_count": 81,
   "id": "8d2c8423-19ec-4237-8aed-54b4adaa576f",
   "metadata": {},
   "outputs": [
    {
     "name": "stdout",
     "output_type": "stream",
     "text": [
      "9\n"
     ]
    }
   ],
   "source": [
    "l1 =[10,2,1]\n",
    "sumoflist = 0\n",
    "for i in l1:\n",
    "    sumoflist = i-sumoflist\n",
    "print(sumoflist)"
   ]
  },
  {
   "cell_type": "code",
   "execution_count": null,
   "id": "58ffe748-7570-4af3-a200-a83338bef9eb",
   "metadata": {},
   "outputs": [],
   "source": []
  }
 ],
 "metadata": {
  "kernelspec": {
   "display_name": "Python 3 (ipykernel)",
   "language": "python",
   "name": "python3"
  },
  "language_info": {
   "codemirror_mode": {
    "name": "ipython",
    "version": 3
   },
   "file_extension": ".py",
   "mimetype": "text/x-python",
   "name": "python",
   "nbconvert_exporter": "python",
   "pygments_lexer": "ipython3",
   "version": "3.11.7"
  }
 },
 "nbformat": 4,
 "nbformat_minor": 5
}
